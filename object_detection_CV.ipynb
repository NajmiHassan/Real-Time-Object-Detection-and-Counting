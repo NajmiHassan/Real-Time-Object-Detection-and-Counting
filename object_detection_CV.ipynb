{
 "cells": [
  {
   "cell_type": "code",
   "execution_count": null,
   "metadata": {
    "vscode": {
     "languageId": "plaintext"
    }
   },
   "outputs": [],
   "source": [
    "!pip install opencv-python-headless numpy"
   ]
  },
  {
   "cell_type": "code",
   "execution_count": null,
   "metadata": {
    "vscode": {
     "languageId": "plaintext"
    }
   },
   "outputs": [],
   "source": [
    "# Create a directory for YOLO files\n",
    "!mkdir yolo\n",
    "%cd yolo\n",
    "\n",
    "# Download YOLOv4 configuration and weights\n",
    "!wget https://raw.githubusercontent.com/AlexeyAB/darknet/master/cfg/yolov4.cfg\n",
    "!wget https://raw.githubusercontent.com/AlexeyAB/darknet/master/cfg/coco.names\n",
    "!wget https://pjreddie.com/media/files/yolov4.weights\n",
    "\n",
    "# Go back to the root directory\n",
    "%cd ..\n"
   ]
  },
  {
   "cell_type": "code",
   "execution_count": null,
   "metadata": {
    "vscode": {
     "languageId": "plaintext"
    }
   },
   "outputs": [],
   "source": [
    "!pip install --upgrade opencv-python-headless numpy\n",
    "\n",
    "import cv2\n",
    "import numpy as np\n",
    "\n",
    "# Re-download the weights file using curl to ensure integrity\n",
    "!curl -L https://github.com/AlexeyAB/darknet/releases/download/darknet_yolo_v3_optimal/yolov4.weights -o yolo/yolov4.weights\n",
    "\n",
    "# Load class labels\n",
    "with open('yolo/coco.names', 'r') as f:\n",
    "    classes = f.read().strip().split('\\n')\n",
    "\n",
    "# Load YOLO model, ensuring correct paths and disabling CUDA for now\n",
    "net = cv2.dnn.readNet('yolo/yolov4.weights', 'yolo/yolov4.cfg')\n",
    "# Commenting out CUDA settings to troubleshoot\n",
    "# net.setPreferableBackend(cv2.dnn.DNN_BACKEND_CUDA)\n",
    "# net.setPreferableTarget(cv2.dnn.DNN_TARGET_CUDA)\n",
    "\n",
    "# Get output layer names\n",
    "layer_names = net.getLayerNames()\n",
    "output_layers = [layer_names[i - 1] for i in net.getUnconnectedOutLayers().flatten()]"
   ]
  },
  {
   "cell_type": "code",
   "execution_count": null,
   "metadata": {
    "vscode": {
     "languageId": "plaintext"
    }
   },
   "outputs": [],
   "source": [
    "from google.colab import files\n",
    "uploaded = files.upload()  # then choose your video file\n"
   ]
  },
  {
   "cell_type": "code",
   "execution_count": null,
   "metadata": {
    "vscode": {
     "languageId": "plaintext"
    }
   },
   "outputs": [],
   "source": [
    "from google.colab.patches import cv2_imshow\n",
    "\n",
    "def detect_and_count_video(video_path, frame_limit=50):\n",
    "    # Open video file instead of webcam\n",
    "    cap = cv2.VideoCapture(video_path)\n",
    "    if not cap.isOpened():\n",
    "        print(\"Error: Could not open video file.\")\n",
    "        return\n",
    "\n",
    "    frame_count = frame_limit\n",
    "\n",
    "    while frame_count > 0:\n",
    "        ret, frame = cap.read()\n",
    "        if not ret:\n",
    "            print(\"Failed to grab frame or end of video reached.\")\n",
    "            break\n",
    "\n",
    "        height, width = frame.shape[:2]\n",
    "\n",
    "        # Prepare image for YOLO\n",
    "        blob = cv2.dnn.blobFromImage(frame, 1/255.0, (416, 416), (0, 0, 0), swapRB=True, crop=False)\n",
    "        net.setInput(blob)\n",
    "        outputs = net.forward(output_layers)\n",
    "\n",
    "        boxes = []\n",
    "        confidences = []\n",
    "        class_ids = []\n",
    "\n",
    "        for output in outputs:\n",
    "            for detection in output:\n",
    "                scores = detection[5:]\n",
    "                class_id = np.argmax(scores)\n",
    "                confidence = scores[class_id]\n",
    "\n",
    "                if confidence > 0.5:\n",
    "                    center_x = int(detection[0] * width)\n",
    "                    center_y = int(detection[1] * height)\n",
    "                    w = int(detection[2] * width)\n",
    "                    h = int(detection[3] * height)\n",
    "\n",
    "                    x = int(center_x - w / 2)\n",
    "                    y = int(center_y - h / 2)\n",
    "\n",
    "                    boxes.append([x, y, w, h])\n",
    "                    confidences.append(float(confidence))\n",
    "                    class_ids.append(class_id)\n",
    "\n",
    "        indexes = cv2.dnn.NMSBoxes(boxes, confidences, 0.5, 0.4)\n",
    "        object_count = {}\n",
    "\n",
    "        if len(indexes) > 0:\n",
    "            for i in indexes.flatten():\n",
    "                x, y, w, h = boxes[i]\n",
    "                label = str(classes[class_ids[i]])\n",
    "                confidence = confidences[i]\n",
    "                color = (0, 255, 0)\n",
    "\n",
    "                cv2.rectangle(frame, (x, y), (x + w, y + h), color, 2)\n",
    "                cv2.putText(frame, f'{label} {int(confidence * 100)}%', (x, y - 10),\n",
    "                            cv2.FONT_HERSHEY_SIMPLEX, 0.5, color, 2)\n",
    "\n",
    "                if label in object_count:\n",
    "                    object_count[label] += 1\n",
    "                else:\n",
    "                    object_count[label] = 1\n",
    "\n",
    "        # Display object count on the frame\n",
    "        y_offset = 30\n",
    "        for label, count in object_count.items():\n",
    "            cv2.putText(frame, f'{label}: {count}', (10, y_offset),\n",
    "                        cv2.FONT_HERSHEY_SIMPLEX, 0.6, (0, 255, 255), 2)\n",
    "            y_offset += 30\n",
    "\n",
    "        # Display frame in Colab\n",
    "        # Convert the frame to uint8 before displaying\n",
    "        frame = frame.astype(np.uint8)  # Ensure frame data type is uint8\n",
    "        cv2_imshow(frame)\n",
    "\n",
    "        frame_count -= 1\n",
    "\n",
    "    cap.release()\n",
    "    cv2.destroyAllWindows()\n",
    "\n",
    "# Replace 'video.mp4' with the name of your uploaded video file.\n",
    "detect_and_count_video('your_video.mp4', frame_limit=50)"
   ]
  }
 ],
 "metadata": {
  "language_info": {
   "name": "python"
  }
 },
 "nbformat": 4,
 "nbformat_minor": 2
}
